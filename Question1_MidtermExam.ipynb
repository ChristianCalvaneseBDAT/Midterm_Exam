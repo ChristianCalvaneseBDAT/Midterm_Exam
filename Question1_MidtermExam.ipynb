{
  "nbformat": 4,
  "nbformat_minor": 0,
  "metadata": {
    "colab": {
      "provenance": []
    },
    "kernelspec": {
      "name": "python3",
      "display_name": "Python 3"
    },
    "language_info": {
      "name": "python"
    }
  },
  "cells": [
    {
      "cell_type": "markdown",
      "source": [
        "\n",
        "\n",
        "In a jupyter notebook solve the following question. Please upload the notebook to GitHub and provide the link submission box below.\n",
        "\n",
        "\n",
        "\n",
        "__int()__: Constructor that takes as input a pair of Point objects that represent the ends points of the line segment\n",
        "\n",
        "Length():: returns the length if the segment\n",
        "\n",
        "Slope() returns the slope of the segment of none if the slope is unbounded\n",
        "\n",
        "\n",
        "\n",
        "\n",
        "p1 = Point(3,4)\n",
        "\n",
        "p2 = Point()\n",
        "\n",
        "s = Segment(p1,p2)\n",
        "\n",
        "s.length()\n",
        "\n",
        "5.0\n",
        "\n",
        "s.slope()\n",
        "\n",
        "0.75\n",
        "\n"
      ],
      "metadata": {
        "id": "tpt5CwGTJQcn"
      }
    },
    {
      "cell_type": "code",
      "execution_count": 2,
      "metadata": {
        "colab": {
          "base_uri": "https://localhost:8080/"
        },
        "id": "eVWL5m_A_5S4",
        "outputId": "3b643c73-8215-41b8-87b4-6487c4d3f991"
      },
      "outputs": [
        {
          "output_type": "stream",
          "name": "stdout",
          "text": [
            "Length of segment: 5.0\n",
            "Slope of segment: 0.75\n"
          ]
        }
      ],
      "source": [
        "import math\n",
        "\n",
        "class Point:\n",
        "    def __init__(self, x=0, y=0):\n",
        "        self.x = x\n",
        "        self.y = y\n",
        "\n",
        "class Segment:\n",
        "    def __init__(self, point1, point2):\n",
        "        self.point1 = point1\n",
        "        self.point2 = point2\n",
        "\n",
        "    def length(self):\n",
        "        return math.sqrt((self.point2.x - self.point1.x) ** 2 + (self.point2.y - self.point1.y) ** 2)\n",
        "\n",
        "    def slope(self):\n",
        "        if self.point2.x == self.point1.x:\n",
        "            return None\n",
        "        else:\n",
        "            return (self.point2.y - self.point1.y) / (self.point2.x - self.point1.x)\n",
        "\n",
        "#Example provided by the question\n",
        "\n",
        "p1 = Point(4, 3)\n",
        "p2 = Point()\n",
        "s = Segment(p1, p2)\n",
        "\n",
        "length = s.length()\n",
        "slope = s.slope()\n",
        "\n",
        "# Print\n",
        "print(\"Length of segment:\", length)\n",
        "print(\"Slope of segment:\", slope)"
      ]
    }
  ]
}