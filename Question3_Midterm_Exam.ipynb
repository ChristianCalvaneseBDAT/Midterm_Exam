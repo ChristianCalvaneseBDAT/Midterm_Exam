{
  "nbformat": 4,
  "nbformat_minor": 0,
  "metadata": {
    "colab": {
      "provenance": []
    },
    "kernelspec": {
      "name": "python3",
      "display_name": "Python 3"
    },
    "language_info": {
      "name": "python"
    }
  },
  "cells": [
    {
      "cell_type": "code",
      "execution_count": 6,
      "metadata": {
        "id": "lIujwiZTOcqT"
      },
      "outputs": [],
      "source": [
        "def f(indent, num):\n",
        "    if(num > 0):\n",
        "        f(indent, num//2);               # print previous pattern\n",
        "        print(\" \"*indent + \"*\"*num);     # print middle row of *'s\n",
        "        f(indent + 1, num//2);\n"
      ]
    },
    {
      "cell_type": "code",
      "source": [
        "print(\"First Example: f(0,0)\")\n",
        "f(0,0)\n",
        "print(\"Second Example : f(0,1\")\n",
        "f(0,1)\n",
        "print(\"Third Example : f(0,2\")\n",
        "f(0,2)\n",
        "print(\"Fourth  Example : f(0,4\")\n",
        "f(0,4)\n",
        "print(\"Fifth Example : f(0,8\")\n",
        "f(0, 8)"
      ],
      "metadata": {
        "colab": {
          "base_uri": "https://localhost:8080/"
        },
        "id": "qw2JVLegS1w7",
        "outputId": "eb397e85-617a-4af1-cc63-2a003da30b8b"
      },
      "execution_count": 13,
      "outputs": [
        {
          "output_type": "stream",
          "name": "stdout",
          "text": [
            "First Example: f(0,0)\n",
            "Second Example : f(0,1\n",
            "*\n",
            "Third Example : f(0,2\n",
            "*\n",
            "**\n",
            " *\n",
            "Fourth  Example : f(0,4\n",
            "*\n",
            "**\n",
            " *\n",
            "****\n",
            " *\n",
            " **\n",
            "  *\n",
            "Fifth Example : f(0,8\n",
            "*\n",
            "**\n",
            " *\n",
            "****\n",
            " *\n",
            " **\n",
            "  *\n",
            "********\n",
            " *\n",
            " **\n",
            "  *\n",
            " ****\n",
            "  *\n",
            "  **\n",
            "   *\n"
          ]
        }
      ]
    },
    {
      "cell_type": "code",
      "source": [],
      "metadata": {
        "id": "6f_vPtelS_JA"
      },
      "execution_count": null,
      "outputs": []
    }
  ]
}